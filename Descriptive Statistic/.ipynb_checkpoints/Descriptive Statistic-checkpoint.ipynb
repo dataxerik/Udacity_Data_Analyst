{
 "cells": [
  {
   "cell_type": "markdown",
   "metadata": {},
   "source": [
    "# Descriptive Statistics"
   ]
  },
  {
   "cell_type": "markdown",
   "metadata": {},
   "source": [
    "### Overview"
   ]
  },
  {
   "cell_type": "markdown",
   "metadata": {},
   "source": [
    "Statistics is a way to make sense of a system's data. We can use Statistics to find trends in the data, reduce uncertainity in our knowledge of the system, and then make informed decisions."
   ]
  },
  {
   "cell_type": "markdown",
   "metadata": {},
   "source": [
    "### What to measure?"
   ]
  },
  {
   "cell_type": "markdown",
   "metadata": {},
   "source": [
    "One way to understand a system is to conduct experiments. The thing we want to measure is typically called a __construct__\n",
    "\n",
    "__contructs__ are like concepts that have different ways to be measured. For example, happiness, power usage, etc.\n",
    "\n",
    "The way we measure is a __construct__ is a __operational definition__. Using our preivous examples of __constructs__, a way to measure happpiness could be how often someone smiles or maybe how much a person's brain produces a certain chemical."
   ]
  },
  {
   "cell_type": "markdown",
   "metadata": {},
   "source": [
    "### How much to measure?"
   ]
  },
  {
   "cell_type": "markdown",
   "metadata": {},
   "source": [
    "Often, we get data samples to make inferences about a population in a experiment.\n",
    "\n",
    "A __population__ is all the individuals in a group while a __sample__ is a subgroup of the __population__.\n",
    "\n",
    "We call a characteristic of a population a __parameter__. And, we call a characteristic of a sample a __statistic__.\n",
    "\n",
    "The difference between wether a measurement is for a popultion or sample can be seen below.\n",
    "\n",
    "Population mean: $\\mu$\n",
    "\n",
    "Population variance: $\\sigma^2$\n",
    "\n",
    "Population standard deviation: $\\sigma$\n",
    "\n",
    "Sample mean: $\\bar{x}$\n",
    "\n",
    "Sample variance: $s^2$\n",
    "\n",
    "Sampmle standard deviation: $s$\n"
   ]
  },
  {
   "cell_type": "code",
   "execution_count": null,
   "metadata": {
    "collapsed": true
   },
   "outputs": [],
   "source": []
  },
  {
   "cell_type": "code",
   "execution_count": null,
   "metadata": {
    "collapsed": true
   },
   "outputs": [],
   "source": []
  }
 ],
 "metadata": {
  "kernelspec": {
   "display_name": "Python [Root]",
   "language": "python",
   "name": "Python [Root]"
  },
  "language_info": {
   "codemirror_mode": {
    "name": "ipython",
    "version": 3
   },
   "file_extension": ".py",
   "mimetype": "text/x-python",
   "name": "python",
   "nbconvert_exporter": "python",
   "pygments_lexer": "ipython3",
   "version": "3.5.3"
  }
 },
 "nbformat": 4,
 "nbformat_minor": 2
}
